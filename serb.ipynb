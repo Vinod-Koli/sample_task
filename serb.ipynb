{
 "cells": [
  {
   "cell_type": "code",
   "execution_count": null,
   "metadata": {},
   "outputs": [],
   "source": [
    "# Import required libraries\n",
    "\n",
    "import cv2\n",
    "import matplotlib.pyplot as plt\n",
    "import numpy as np"
   ]
  },
  {
   "cell_type": "code",
   "execution_count": null,
   "metadata": {},
   "outputs": [],
   "source": [
    "# Read & Display input image\n",
    "\n",
    "ip_img = plt.imread('serb1.jpg')\n",
    "print(f\"Image dimensions are: {ip_img.shape}\")\n",
    "plt.imshow(ip_img)\n",
    "print(\"Checking values of green pixels in OF\")\n",
    "print(ip_img[250,610:620,:])\n",
    "print(\"Checking values of grey pixels in ECE GIT\")\n",
    "print(ip_img[400,810:820,:])"
   ]
  },
  {
   "cell_type": "code",
   "execution_count": null,
   "metadata": {},
   "outputs": [],
   "source": [
    "# Extract Red pixels i.e. \"DEPARTMENT\"   \n",
    "# (trial and error method - experiment with range of red pixel values until desired output is obtained)\n",
    "\n",
    "mask = cv2.inRange(ip_img, np.array([180, 0, 0]), np.array([255, 100, 100]))\n",
    "red = cv2.bitwise_or(ip_img,ip_img, mask = mask)\n",
    "plt.imshow(red)"
   ]
  },
  {
   "cell_type": "code",
   "execution_count": null,
   "metadata": {},
   "outputs": [],
   "source": [
    "# Extract Green pixels i.e. \"OF\"\n",
    "\n",
    "mask = cv2.inRange(ip_img, np.array([0, 150, 60]), np.array([50, 255, 200]))\n",
    "green = cv2.bitwise_and(ip_img,ip_img, mask = mask)\n",
    "\n",
    "plt.imshow(green)"
   ]
  },
  {
   "cell_type": "code",
   "execution_count": null,
   "metadata": {},
   "outputs": [],
   "source": [
    "# Extract Grey pixels i.e. \"ECE GIT\"\n",
    "\n",
    "mask = cv2.inRange(ip_img, np.array([230, 150, 100]), np.array([255, 255, 240]))\n",
    "grey = cv2.bitwise_and(ip_img,ip_img, mask = mask)\n",
    "\n",
    "plt.imshow(grey)"
   ]
  },
  {
   "cell_type": "code",
   "execution_count": null,
   "metadata": {},
   "outputs": [],
   "source": [
    "# to clear the noise, set mask to zero in the 1st and 2nd strip\n",
    "\n",
    "y, x = mask.shape\n",
    "y_of_last_strip = y/3 * 2\n",
    "y_of_last_strip = int(y_of_last_strip)\n",
    "mask[0:y_of_last_strip,:] = 0\n",
    "\n",
    "grey = cv2.bitwise_and(ip_img,ip_img, mask = mask)\n",
    "plt.imshow(Grey)"
   ]
  },
  {
   "cell_type": "code",
   "execution_count": null,
   "metadata": {},
   "outputs": [],
   "source": [
    "# Combine all 3 extracts\n",
    "\n",
    "op_img = cv2.bitwise_or(red, green)\n",
    "op_img = cv2.bitwise_or(op_img, grey)\n",
    "\n",
    "plt.imshow(op_img)"
   ]
  },
  {
   "cell_type": "code",
   "execution_count": null,
   "metadata": {},
   "outputs": [],
   "source": [
    "# Set all black pixels to white and non-black pixels to black.\n",
    "\n",
    "final = ip_img.copy()\n",
    "\n",
    "black_pixels_mask = np.all(op_img == [0, 0, 0], axis=-1)\n",
    "non_black_pixels_mask = ~black_pixels_mask\n",
    "\n",
    "# black pixels = white\n",
    "final[black_pixels_mask] = [255, 255, 255]\n",
    "\n",
    "# nonblack pixels = black\n",
    "final[non_black_pixels_mask] = [0, 0, 0]\n",
    "\n",
    "# show final processed image\n",
    "plt.imshow(final)"
   ]
  },
  {
   "cell_type": "code",
   "execution_count": null,
   "metadata": {},
   "outputs": [],
   "source": []
  }
 ],
 "metadata": {
  "kernelspec": {
   "display_name": "Python 3",
   "language": "python",
   "name": "python3"
  },
  "language_info": {
   "codemirror_mode": {
    "name": "ipython",
    "version": 3
   },
   "file_extension": ".py",
   "mimetype": "text/x-python",
   "name": "python",
   "nbconvert_exporter": "python",
   "pygments_lexer": "ipython3",
   "version": "3.8.3"
  }
 },
 "nbformat": 4,
 "nbformat_minor": 4
}
